{
 "cells": [
  {
   "cell_type": "markdown",
   "id": "651fa80a",
   "metadata": {},
   "source": [
    "## International Statistical Classification of Diseases and Related Health Problems 10th Revision"
   ]
  },
  {
   "cell_type": "code",
   "execution_count": 2,
   "id": "9bf91429",
   "metadata": {},
   "outputs": [],
   "source": [
    "import requests\n",
    "from bs4 import BeautifulSoup\n",
    "import pandas as pd"
   ]
  },
  {
   "cell_type": "code",
   "execution_count": 21,
   "id": "79ccb5c1",
   "metadata": {
    "scrolled": false
   },
   "outputs": [],
   "source": [
    "# https://www.noon.com/egypt-en/sports-and-outdoors/exercise-and-fitness/yoga-16328/\n",
    "\n",
    "url = 'https://www.noon.com/egypt-en/sports-and-outdoors/exercise-and-fitness/yoga-16328/JsonGetRootConcepts?useHtml=false'\n",
    "reqs = requests.get(url)\n",
    "soup = BeautifulSoup(reqs.text, 'html.parser')"
   ]
  },
  {
   "cell_type": "code",
   "execution_count": 23,
   "id": "e2279fc4",
   "metadata": {},
   "outputs": [],
   "source": [
    "projects=soup.find_all('div',{'class':\"sc-f8165ac8-15\"})"
   ]
  },
  {
   "cell_type": "code",
   "execution_count": 25,
   "id": "5b88ef2c",
   "metadata": {},
   "outputs": [
    {
     "name": "stdout",
     "output_type": "stream",
     "text": [
      "BODY SCULPTURE Yoga Mat 17mm …EGP 799.00EGP 91712% Off 5.01\n",
      "Athlete Home Exercise Mat …EGP 280.00EGP 35020% Off 4.01\n",
      "Spurt 18D-141 Yoga Roller Pink 30cm …EGP 183.00EGP 29337% Off 5.01\n",
      "Athlete Home Power Pull High End Mat …EGP 360.00EGP 40010% Off\n",
      "Athlete Home Yoga Ball 2021 65cm …EGP 159.00\n",
      "Athlete Home Yoga Ball 2021 55cm …EGP 149.00 5.01\n",
      "Athlete Home Exercise Mat 5Mm Eva …EGP 200.00\n",
      "UFIT Yoga Mat With Carrying Strap & Bag- 10 Mm 183 x 61 x 1cm …EGP 319.00 4.73\n",
      "Athlete Home Leather Gym Sand Bag 100cm …EGP 560.00EGP 70020% Off\n",
      "Spurt Yoga Roller 30cm …EGP 208.00EGP 33237% Off\n",
      "Athlete Home Exercise Mat …EGP 280.00EGP 35020% Off\n",
      "Athlete Home Exercise Mat …EGP 280.00EGP 35020% Off\n",
      "BODY SCULPTURE Full Round Foam Roller 15x45centimeter …EGP 519.00EGP 66722% Off\n",
      "Athlete Home Exercise Mat 5Mm Eva …EGP 200.00\n",
      "Athlete Home Athlete Home Exercise Mat 6 mm Phosphoric PVC …EGP 200.00\n",
      "Athlete Home Yoga Ball 2021 85cm …EGP 179.00\n",
      "Athlete Home Exercise Mat 5Mm Eva …EGP 200.00\n",
      "Generic Anti-Burst Yoga Swiss Ball 25centimeter …EGP 59.90 5.01\n",
      "Athlete Home Athlete Home 5mm Mat With Bag …EGP 200.00\n",
      "BODY SCULPTURE Yoga Mat 173x61cm …EGP 386.00EGP 52927% Off\n",
      "Prickly Pear Sweat Absorbent Anti Slip Strength Travel Yoga Mat 61 cm …EGP 789.00EGP 99921% Off\n",
      "Athlete Home Exercise Mat 5Mm Eva …EGP 200.00\n",
      "UFIT Yoga Mat With Carrying Strap & Bag- 10 Mm 183x61cm …EGP 319.00\n",
      "Athlete Home Exercise Mat 5Mm Eva …EGP 200.00\n",
      "Athlete Home Exercise Mat 5Mm Eva …EGP 200.00\n",
      "Generic Non Slip Yoga Mat With Carrying Bag …EGP 159.00 4.312\n",
      "TOEON 5-Piece Fitness Exercise Yoga Stretching Strap With Cloth Bag …EGP 160.00 4.6213\n",
      "Athlete Home Yoga Ball 2021 75cm …EGP 169.00\n",
      "LIXADA 11-Piece Yoga Resistance Belt With Bag 22x6x19.00centimeter …EGP 250.00EGP 28813% Off 4.463\n",
      "body heart Yoga Ball With Air Pump - 85 cm 85centimeter …EGP 220.00 3.614\n",
      "Athlete Home Heat Yoga Ball With Blower 75centimeter …EGP 225.00\n",
      "Athlete Home Heat Yoga Ball With Blower 65centimeter …EGP 200.00\n",
      "UFIT Non Slip Yoga Mat With Carrying Bag 61 cm …EGP 199.00EGP 25020% Off 3.33\n",
      "Athlete Home Exercise Mat 5Mm Eva …EGP 200.00\n",
      "Gymbit Yoga Mat With Carrying Strap And Bag 10millimeter …EGP 250.00\n",
      "Athlete Home Athlete Home Foam Roller multi Color …EGP 249.00\n",
      "Athlete Home Exercise Mat 5Mm Eva …EGP 200.00\n",
      "Generic Fitness Mini Yoga Ball 25cm …EGP 59.90\n",
      "Athlete Home Athlete Home 5mm Mat With Bag …EGP 200.00 5.01\n",
      "Athlete Home Exercise Mat …EGP 199.00\n",
      "Liveup Mat LS3258 …EGP 450.00\n",
      "SportQ Resistant Training Belts With Instruction Manual And Carrying Case …EGP 99.00\n",
      "Athlete Home Exercise Mat 6 mm colors PVC …EGP 200.00\n",
      "Athlete Home Exercise Mat 6Mm Eva …EGP 250.00\n",
      "BODY SCULPTURE Cork Yoga Mat …EGP 746.00EGP 104928% Off\n",
      "Mesuca Yoga Mat with Carry Net - 6mm …EGP 220.00 5.01\n",
      "Gymbit Yoga Mat With Carrying Strap And Bag 10millimeter …EGP 275.00\n",
      "Cactus Fitness Cactus fitness Yoga Pilates Mat Gym Exercise Mat Home Fitness For Women And Men Non-slip TPE mat 183cm extra long …EGP 358.00\n",
      "Athlete Home Exercise Yoga Aerobic Ball 65cm …EGP 200.00\n",
      "Athlete Home Exercise Mat …EGP 280.00EGP 35020% Off\n"
     ]
    }
   ],
   "source": [
    "for i in soup.find_all('div',{'class':\"sc-f8165ac8-15\"}):\n",
    "    print(i.text.strip())"
   ]
  },
  {
   "cell_type": "code",
   "execution_count": 28,
   "id": "5487c7e9",
   "metadata": {},
   "outputs": [
    {
     "data": {
      "text/plain": [
       "'BODY SCULPTURE Yoga Mat 17mm …EGP 799.00EGP 91712% Off 5.01'"
      ]
     },
     "execution_count": 28,
     "metadata": {},
     "output_type": "execute_result"
    }
   ],
   "source": [
    "soup.find_all('div',{'class':\"sc-f8165ac8-15\"})[0].text.strip()"
   ]
  },
  {
   "cell_type": "code",
   "execution_count": null,
   "id": "283623f4",
   "metadata": {},
   "outputs": [],
   "source": [
    "# https://www.noon.com/egypt-en/sports-and-outdoors/exercise-and-fitness/yoga-16328/?limit=50&page=1&sort%5Bby%5D=popularity&sort%5Bdir%5D=desc"
   ]
  }
 ],
 "metadata": {
  "kernelspec": {
   "display_name": "Python 3 (ipykernel)",
   "language": "python",
   "name": "python3"
  },
  "language_info": {
   "codemirror_mode": {
    "name": "ipython",
    "version": 3
   },
   "file_extension": ".py",
   "mimetype": "text/x-python",
   "name": "python",
   "nbconvert_exporter": "python",
   "pygments_lexer": "ipython3",
   "version": "3.10.4"
  }
 },
 "nbformat": 4,
 "nbformat_minor": 5
}
