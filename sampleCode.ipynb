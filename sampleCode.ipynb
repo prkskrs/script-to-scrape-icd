{
 "cells": [
  {
   "cell_type": "code",
   "execution_count": 6,
   "id": "5e31d6b3",
   "metadata": {},
   "outputs": [
    {
     "name": "stdout",
     "output_type": "stream",
     "text": [
      "3\n"
     ]
    }
   ],
   "source": [
    "import PyPDF2 \n",
    "pdfFileObj = open('2.pdf', 'rb') \n",
    "pdfReader = PyPDF2.PdfFileReader(pdfFileObj) \n",
    "print(pdfReader.numPages) \n",
    "pageObj = pdfReader.getPage(0) \n",
    "text1=pageObj.extractText()\n",
    "pageObj = pdfReader.getPage(1) \n",
    "text2=pageObj.extractText()\n",
    "text=text1+text2\n",
    "def Convert(string):\n",
    "    li = list(string.split(\"\\n\"))\n",
    "    return li\n",
    "lst=Convert(text)\n",
    "# print(lst)\n",
    "# type(lst)"
   ]
  },
  {
   "cell_type": "code",
   "execution_count": 7,
   "id": "21162da3",
   "metadata": {},
   "outputs": [
    {
     "data": {
      "text/plain": [
       "['KARNATAKA INSTITUTE OF MEDICAL SCIENCES HUBLI KARNATAKA',\n",
       " '  ',\n",
       " 'Govt of Karnataka',\n",
       " ' ',\n",
       " 'hubballikims.karnataka.gov.in',\n",
       " ' ',\n",
       " ' ',\n",
       " '  ',\n",
       " ' ',\n",
       " '  ',\n",
       " ' ',\n",
       " 'UHID :',\n",
       " '20220214847',\n",
       " 'Patient',\n",
       " 'Name:',\n",
       " '',\n",
       " 'Mrs. FATIMA',\n",
       " 'BEGAM RAYASAB',\n",
       " 'BICHAKATI',\n",
       " '',\n",
       " 'Department:',\n",
       " '',\n",
       " 'OBSTETRICS ',\n",
       " 'AND',\n",
       " 'GYNECOLOGY',\n",
       " 'Age /Sex:',\n",
       " '',\n",
       " '27 Years 1 Months',\n",
       " '16 Days 0 Hours ',\n",
       " '/',\n",
       " 'Female',\n",
       " '',\n",
       " 'Unit::',\n",
       " 'UNIT C',\n",
       " 'W/O ',\n",
       " 'RAYASAB',\n",
       " 'Ward::',\n",
       " '605 Post Labour',\n",
       " 'Ward',\n",
       " 'Billing Type :',\n",
       " 'JSSK',\n",
       " 'MLC Patient:',\n",
       " 'NO',\n",
       " 'IPD',\n",
       " 'Admission ID',\n",
       " '',\n",
       " '202247668',\n",
       " '',\n",
       " 'Discharge',\n",
       " 'Type:',\n",
       " 'Treating',\n",
       " 'Doctor:',\n",
       " '',\n",
       " 'Dr. Shobha',\n",
       " 'Bembalgi,',\n",
       " 'Bed No:',\n",
       " 'F',\n",
       " 'Mobile No:',\n",
       " '*******410',\n",
       " ' ',\n",
       " ' ',\n",
       " 'Drug Allergy :-',\n",
       " ' ',\n",
       " ' ',\n",
       " ' ',\n",
       " ' ',\n",
       " ' ',\n",
       " '',\n",
       " 'Date of',\n",
       " 'Admission:',\n",
       " '',\n",
       " '28/09/2022',\n",
       " '05:18:16 PM',\n",
       " 'Operation',\n",
       " 'Date:',\n",
       " 'Date of',\n",
       " 'Discharge :',\n",
       " '',\n",
       " '02/10/2022',\n",
       " '11:38:00 PM',\n",
       " 'Address ',\n",
       " ':',\n",
       " '',\n",
       " 'SAUNSHI MOB',\n",
       " '7676836410, ADR',\n",
       " '328136008039,',\n",
       " 'KUNDGOL,',\n",
       " 'KARNATAKA, INDIA',\n",
       " 'Surgeon ',\n",
       " ':',\n",
       " 'Asst.Surgeon',\n",
       " ':',\n",
       " 'Procedure ',\n",
       " ':',\n",
       " 'Operative',\n",
       " 'Findings ',\n",
       " ':',\n",
       " 'Consulting',\n",
       " 'Doctor ',\n",
       " ':',\n",
       " '',\n",
       " 'Dr. Shobha',\n",
       " 'Bembalgi',\n",
       " '',\n",
       " ' ',\n",
       " ' ',\n",
       " 'Diagnosis',\n",
       " ':',\n",
       " '',\n",
       " 'G3P2L2 WITH 40WEEKS ',\n",
       " '+ 0DAYS GA OLIGOHYDRAMNIOUS NOT IN LABOR',\n",
       " ' ',\n",
       " 'ICD Code:',\n",
       " 'Admitted',\n",
       " 'For:',\n",
       " '',\n",
       " 'G3P2L2 WITH 40WEEKS ',\n",
       " '+ 0DAYS GA OLIGOHYDRAMNIOUS NOT IN LABOR ',\n",
       " 'REGULAR ANC VISIT ',\n",
       " 'H/O',\n",
       " '9MONTHS OF AMENORRHEA ',\n",
       " 'AFM + CAME WITH ',\n",
       " 'NO C/O PAIN ABDOMEN ',\n",
       " 'NO C/O ',\n",
       " 'PV BLEED PV LEAK ',\n",
       " 'NO H/O',\n",
       " 'CHEST PAIN, BREATHLESSNESS, PALPITATIONS ',\n",
       " 'NO H/O DM HTN, ,EPILEPSY, ',\n",
       " 'CARDIAC ',\n",
       " 'DISORDERS ',\n",
       " 'FAMILY',\n",
       " 'HISTORY -NOT SIGNIFICANT',\n",
       " 'Physical',\n",
       " 'Findings:',\n",
       " '',\n",
       " 'Vitals ',\n",
       " 'PR - 86 bpm ',\n",
       " 'BP - 110/60 mm Hg RR - 16 cpm Temp - 98Ã',\n",
       " ' \\x83',\n",
       " ' Â',\n",
       " ' \\x82',\n",
       " ' Ã',\n",
       " ' \\x82',\n",
       " ' Â°F ',\n",
       " 'S/E CVS - S1,S2 HEARD RS -',\n",
       " 'NVBS CNS - NAD ',\n",
       " 'PA UTERUS TERM ',\n",
       " 'SIZE ',\n",
       " 'FLANKS FULL ',\n",
       " 'LONGITUDINAL LIE CEPHALIC PRESENT ATION',\n",
       " '',\n",
       " ' ',\n",
       " '',\n",
       " ' ',\n",
       " 'DISCHARGE SUMMARY',\n",
       " ' Category',\n",
       " 'Test Name',\n",
       " ' Observation',\n",
       " 'Note :    ',\n",
       " 'Blood group - O POSITIVE ',\n",
       " 'Hb - 12.6g/dl HIV - nonreactive HbsAg- non reactive   ',\n",
       " '0',\n",
       " 'Note',\n",
       " ':',\n",
       " '',\n",
       " 'T. FS 1-0 -0 T. BC 0-1-0 T. Calcium 0-1-0 ',\n",
       " ' T metronidazole 100ML 1-1-1 T pan 40mg 1-0-1 T pct',\n",
       " '500Mg 1-0-1 T CEFEXIME 200 MG PO 1-0-1',\n",
       " '',\n",
       " 'LIQUOR ADEQUATE FHR-140 BPM ',\n",
       " 'PV ',\n",
       " 'CERVICAL DILATATION PATULOUS ',\n",
       " 'UN EFFACED MEMBRANES INTACT',\n",
       " 'PELVIS ADEQUATE',\n",
       " 'Condition',\n",
       " 'During',\n",
       " 'Discharge',\n",
       " ':',\n",
       " '',\n",
       " 'Vitals - STABLE ,SYSTEMIC EXAM:- CVS/RS - NAD',\n",
       " '  ',\n",
       " ' ',\n",
       " 'Brief Summary of the Case:',\n",
       " '',\n",
       " 'FTVD INDUCED WITH PGE2 ',\n",
       " ' ',\n",
       " 'A SINGLE LIVE BOY OF WEIGHT 2.88KG WAS BORN ON 29/09/22 AT',\n",
       " '5:12PM ',\n",
       " 'CRIED AT BIRTH,',\n",
       " ' ',\n",
       " 'ROBSON 3',\n",
       " ' ',\n",
       " 'part no - 928/09/22',\n",
       " 'Treatment Given :',\n",
       " 'Advice on Discharge:',\n",
       " '',\n",
       " 'PLENTY OF ORAL FLUIDS ',\n",
       " ' ',\n",
       " 'PERSONAL AND PERINEAL HYGIENE',\n",
       " '  ',\n",
       " 'HIGH PROTEIN DIET ',\n",
       " ' ',\n",
       " 'ADEQUATE REST ',\n",
       " ' ',\n",
       " 'TAB FERROUS SULPHATE 200MG BD',\n",
       " ' ',\n",
       " 'TAB CALCIUM 500MG ',\n",
       " ' ',\n",
       " 'TAB B COMPLEX OD ',\n",
       " ' ',\n",
       " 'TAB AMOXICLAV 625 MG 1-0-1 ',\n",
       " ' ',\n",
       " 'TAB METRONIDAZOLE ',\n",
       " '400MG 1-0-1 ',\n",
       " ' ',\n",
       " 'TAB PANTOP 40MG 1-0-1',\n",
       " ' ',\n",
       " 'TAB PCT 500MG 1-0-1 ',\n",
       " 'BREASTFEEDING FOR 6 MONTHS',\n",
       " ' ',\n",
       " 'COMPLIMENTARY BREASTFEEDING AFTER 6 MONTHS',\n",
       " ' ',\n",
       " 'IMMUNISATION ADVICED',\n",
       " ' ',\n",
       " ' ',\n",
       " ' ',\n",
       " ' ',\n",
       " 'REVIEW AFTER 2WKS IN OPD 50 ONLY ON THURSDAY',\n",
       " ' ',\n",
       " '',\n",
       " ' ',\n",
       " 'To come For follow up in Routine OPD on ',\n",
       " '& Time',\n",
       " 'In specialist Clinics on  ',\n",
       " '  & Time',\n",
       " 'Senior Resident             ',\n",
       " ' ',\n",
       " '  ',\n",
       " 'Signature Treating Doctor',\n",
       " ' ',\n",
       " '  ',\n",
       " 'Dr. Shobha ',\n",
       " 'Bembalgi',\n",
       " '02/10/2022 11:38:00 PM ',\n",
       " ' ',\n",
       " 'Date & Time',\n",
       " ' ']"
      ]
     },
     "execution_count": 7,
     "metadata": {},
     "output_type": "execute_result"
    }
   ],
   "source": [
    "lst.remove(\":\")\n",
    "lst.remove(\" \")\n",
    "lst.remove(\"\")\n",
    "lst.remove(\"::\")\n",
    "lst"
   ]
  },
  {
   "cell_type": "code",
   "execution_count": 8,
   "id": "18b1f098",
   "metadata": {},
   "outputs": [
    {
     "name": "stdout",
     "output_type": "stream",
     "text": [
      "T. FS 1-0 -0 T. BC 0-1-0 T. Calcium 0-1-0 \n",
      " T metronidazole 100ML 1-1-1 T pan 40mg 1-0-1 T pct\n",
      "500Mg 1-0-1 T CEFEXIME 200 MG PO 1-0-1\n"
     ]
    }
   ],
   "source": [
    "uhid=[]\n",
    "patient=[]\n",
    "department=[]\n",
    "age_sex=[]\n",
    "unit=[]\n",
    "son_of=[]\n",
    "ward=[]\n",
    "billing_type=[]\n",
    "mlc_patient=[]\n",
    "ipd=[]\n",
    "admission_id=[]\n",
    "discharge_type=[]\n",
    "treating_doctor=[]\n",
    "bed_no=[]\n",
    "mobile_no=[]\n",
    "drug_allergy=[]\n",
    "date_of_admission=[]\n",
    "operation_date=[]\n",
    "date_of_discharge=[]\n",
    "address=[]\n",
    "surgeon=[]\n",
    "asst_surgeon=[]\n",
    "procedure=[]\n",
    "operative_findings=[]\n",
    "consulting_doctor=[]\n",
    "diagnosis=[]\n",
    "icd_code=[]\n",
    "admitted_for=[]\n",
    "physical_findings=[]\n",
    "condition_during_discharge=[]\n",
    "brief_summary=[]\n",
    "not_category=[]\n",
    "test_name=[]\n",
    "observation=[]\n",
    "treatment_given=[]\n",
    "advice_on_discharge=[]\n",
    "\n",
    "\n",
    "for i in range(0,len(lst)):\n",
    "    j=0\n",
    "    if(lst[i]==\":\" or lst[i]==\" \" or lst[i]==\"\"):\n",
    "        pass\n",
    "    if(lst[i]==\"UHID :\"):\n",
    "        uhid.append(lst[i+1])\n",
    "    elif(lst[i]==\"Patient\" and lst[i+1]==\"Name:\" ):\n",
    "        j=i+1\n",
    "        while(lst[j]!=\"Department:\"):\n",
    "            j+=1\n",
    "            if(lst[j]==\"Department:\"):\n",
    "                break\n",
    "            patient.append(lst[j])\n",
    "    elif(lst[i]==\"Department:\"):\n",
    "        j=i+1\n",
    "        while(lst[j]!=\"Age /Sex:\"):\n",
    "            j+=1\n",
    "            if(lst[j]==\"Age /Sex:\"):\n",
    "                break\n",
    "            department.append(lst[j])\n",
    "    elif(lst[i]==\"Age /Sex:\"):\n",
    "        j=i+1\n",
    "        while(lst[j]!=\"Unit::\"):\n",
    "            j+=1\n",
    "            if(lst[j]==\"Unit::\"):\n",
    "                break\n",
    "            age_sex.append(lst[j])\n",
    "    elif(lst[i]==\"Unit::\"):\n",
    "        j=i+1\n",
    "        while(lst[j]!=\"S/O \" or lst[j]!=\"W/O \"):\n",
    "            if(lst[j]==\"S/O \" or lst[j]!=\"W/O \" ):\n",
    "                break\n",
    "            unit.append(lst[j])\n",
    "            j+=1\n",
    "    elif(lst[i]==\"S/O \" or lst[i]==\"W/O \"):\n",
    "        j=i+1\n",
    "        while(lst[j]!=\"Ward::\"):\n",
    "            if(lst[j]==\"Ward::\"):\n",
    "                break\n",
    "            son_of.append(lst[j])\n",
    "            j+=1\n",
    "    elif(lst[i]==\"Ward::\"):\n",
    "        j=i+1\n",
    "        while(lst[j]!=\"Billing Type :\"):\n",
    "            if(lst[j]==\"Billing Type :\"):\n",
    "                break\n",
    "            ward.append(lst[j])\n",
    "            j+=1\n",
    "    elif(lst[i]==\"Billing Type :\"):\n",
    "        j=i+1\n",
    "        while(lst[j]!=\"MLC Patient:\"):\n",
    "            if(lst[j]==\"MLC Patient:\"):\n",
    "                break\n",
    "            billing_type.append(lst[j])\n",
    "            j+=1\n",
    "    elif(lst[i]==\"MLC Patient:\"):\n",
    "        j=i+1\n",
    "        while(lst[j]!=\"IPD\"):\n",
    "            if(lst[j]==\"IPD\"):\n",
    "                break\n",
    "            mlc_patient.append(lst[j])\n",
    "            j+=1\n",
    "    elif(lst[i]==\"IPD\"):\n",
    "        j=i+1\n",
    "        while(lst[j]!=\"Admission ID\"):\n",
    "            if(lst[j]==\"Admission ID\"):\n",
    "                break\n",
    "            ipd.append(lst[j])\n",
    "            j+=1\n",
    "    elif(lst[i]==\"Admission ID\"):\n",
    "        j=i+1\n",
    "        while(lst[j]!=\"Discharge\"):\n",
    "            if(lst[j]==\"Discharge\"):\n",
    "                break\n",
    "            admission_id.append(lst[j])\n",
    "            j+=1\n",
    "    elif(lst[i]==\"Discharge\" and lst[i+1]==\"Type:\" ):\n",
    "        j=i+1\n",
    "        while(lst[j]!=\"Treating\"):\n",
    "            j+=1\n",
    "            if(lst[j]==\"Treating\"):\n",
    "                break\n",
    "            discharge_type.append(lst[j])\n",
    "    elif(lst[i]==\"Treating\" and lst[i+1]==\"Doctor:\" ):\n",
    "        j=i+1\n",
    "        while(lst[j]!=\"Bed No:\"):\n",
    "            j+=1\n",
    "            if(lst[j]==\"Bed No:\"):\n",
    "                break\n",
    "            treating_doctor.append(lst[j])\n",
    "    elif(lst[i]==\"Bed No:\"):\n",
    "        j=i+1\n",
    "        while(lst[j]!=\"Mobile No:\"):\n",
    "            if(lst[j]==\"Mobile No:\"):\n",
    "                break\n",
    "            bed_no.append(lst[j])\n",
    "            j+=1\n",
    "    elif(lst[i]==\"Mobile No:\"):\n",
    "        j=i+1\n",
    "        while(lst[j]!=\"Drug Allergy :-\"):\n",
    "            if(lst[j]==\"Drug Allergy :-\"):\n",
    "                break\n",
    "            mobile_no.append(lst[j])\n",
    "            j+=1\n",
    "    elif(lst[i]==\"Drug Allergy :-\"):\n",
    "        j=i+1\n",
    "        while(lst[j]!=\"Admission:\"):\n",
    "            if(lst[j]==\"Admission:\" or lst[j]==\"Date of\"):\n",
    "                break\n",
    "            drug_allergy.append(lst[j])\n",
    "            j+=1\n",
    "    elif(lst[i]==\"Admission:\"):\n",
    "        j=i+1\n",
    "        while(lst[j]!=\"Operation\"):\n",
    "            if(lst[j]==\"Operation\" or lst[j]==\"Date:\"):\n",
    "                break\n",
    "            date_of_admission.append(lst[j])\n",
    "            j+=1\n",
    "    elif(lst[i]==\"Date:\"):\n",
    "        j=i+1\n",
    "        while(lst[j]!=\"Discharge :\"):\n",
    "            if(lst[j]==\"Discharge :\" or lst[j]==\"Date of\"):\n",
    "                break\n",
    "            operation_date.append(lst[j])\n",
    "            j+=1\n",
    "    elif(lst[i]==\"Discharge :\"):\n",
    "        j=i+1\n",
    "        while(lst[j]!=\"Address \"):\n",
    "            if(lst[j]==\"Address \"):\n",
    "                break\n",
    "            date_of_discharge.append(lst[j])\n",
    "            j+=1\n",
    "    elif(lst[i]==\"Address \"):\n",
    "        j=i+1\n",
    "        while(lst[j]!=\"Surgeon \"):\n",
    "            if(lst[j]==\"Surgeon \"):\n",
    "                break\n",
    "            address.append(lst[j])\n",
    "            j+=1\n",
    "    elif(lst[i]==\"Surgeon \"):\n",
    "        j=i+1\n",
    "        while(lst[j]!=\"Asst.Surgeon\" ):\n",
    "            if(lst[j]==\"Asst.Surgeon\"):\n",
    "                break\n",
    "            if(lst[j]!=\":\"):\n",
    "                surgeon.append(lst[j])\n",
    "            j+=1\n",
    "    elif(lst[i]==\"Asst.Surgeon\"):\n",
    "        j=i+1\n",
    "        while(lst[j]!=\"Procedure \" ):\n",
    "            if(lst[j]==\"Procedure \"):\n",
    "                break\n",
    "            if(lst[j]!=\":\"):\n",
    "                asst_surgeon.append(lst[j])\n",
    "            j+=1\n",
    "    elif(lst[i]==\"Procedure \"):\n",
    "        j=i+1\n",
    "        while(lst[j]!=\"Operative\" ):\n",
    "            if(lst[j]==\"Operative\"):\n",
    "                break\n",
    "            if(lst[j]!=\":\"):\n",
    "                procedure.append(lst[j])\n",
    "            j+=1\n",
    "    elif(lst[i]==\"Findings \"):\n",
    "        j=i+1\n",
    "        while(lst[j]!=\"Consulting\" ):\n",
    "            if(lst[j]==\"Consulting\"):\n",
    "                break\n",
    "            if(lst[j]!=\":\"):\n",
    "                operative_findings.append(lst[j])\n",
    "            j+=1\n",
    "    elif(lst[i]==\"Doctor \"):\n",
    "        j=i+1\n",
    "        while(lst[j]!=\"Diagnosis\" ):\n",
    "            if(lst[j]==\"Diagnosis\"):\n",
    "                break\n",
    "            if(lst[j]!=\":\"):\n",
    "                consulting_doctor.append(lst[j])\n",
    "            j+=1\n",
    "    elif(lst[i]==\"Diagnosis\"):\n",
    "        j=i+1\n",
    "        while(lst[j]!=\"ICD Code:\" ):\n",
    "            if(lst[j]==\"ICD Code:\"):\n",
    "                break\n",
    "            icd_code.append(lst[j])\n",
    "            j+=1\n",
    "    elif(lst[i]==\"For:\"):\n",
    "        j=i+1\n",
    "        while(lst[j]!=\"Findings:\" ):\n",
    "            if(lst[j]==\"Findings:\"):\n",
    "                break\n",
    "            admitted_for.append(lst[j])\n",
    "            j+=1\n",
    "    elif(lst[i]==\"Findings:\"):\n",
    "        j=i+1\n",
    "        while(lst[j]!=\"DISCHARGE SUMMARY\" ):\n",
    "            if(lst[j]==\"DISCHARGE SUMMARY\"):\n",
    "                break\n",
    "            physical_findings.append(lst[j])\n",
    "            j+=1\n",
    "    elif(lst[i]==\"Condition\" and lst[i+1]==\"During\"):\n",
    "        j=i+3\n",
    "        while(lst[j]!=\"Brief Summary of the Case:\" ):\n",
    "            if(lst[j]==\"Brief Summary of the Case:\"):\n",
    "                break\n",
    "            condition_during_discharge.append(lst[j])\n",
    "            j+=1\n",
    "    elif(lst[i]==\"Brief Summary of the Case:\"):\n",
    "        j=i+1\n",
    "        while(lst[j]!=\"Treatment Given :\" ):\n",
    "            if(lst[j]==\"Treatment Given :\"):\n",
    "                break\n",
    "            brief_summary.append(lst[j])\n",
    "            j+=1\n",
    "    elif(lst[i]==\"Advice on Discharge:\"):\n",
    "        j=i+1\n",
    "        while(lst[j]!=\"To come For follow up in Routine OPD on \" ):\n",
    "            if(lst[j]==\"To come For follow up in Routine OPD on \"):\n",
    "                break\n",
    "            advice_on_discharge.append(lst[j])\n",
    "            j+=1\n",
    "    elif(lst[i]==\"Test Name\"):\n",
    "        j=i+3\n",
    "        while(lst[j]!=\"Note\" ):\n",
    "            if(lst[j]==\"Note\"):\n",
    "                break\n",
    "            test_name.append(lst[j])\n",
    "            j+=1\n",
    "    elif(lst[i]==\" Observation\"):\n",
    "        j=i+3\n",
    "        while(lst[j]!=\"Note\" ):\n",
    "            if(lst[j]==\"Note\"):\n",
    "                break\n",
    "            j+=1\n",
    "        observation.append(lst[j-1])\n",
    "    elif(lst[i]==\"Note\"):\n",
    "        j=i+3\n",
    "        while(lst[j]!=\"\" ):\n",
    "            if(lst[j]==\"\"):\n",
    "                break\n",
    "            print(lst[j])\n",
    "            treatment_given.append(lst[j])\n",
    "            j+=1\n",
    "        \n",
    "        \n",
    "                \n",
    "        "
   ]
  },
  {
   "cell_type": "code",
   "execution_count": 9,
   "id": "af62da07",
   "metadata": {},
   "outputs": [
    {
     "data": {
      "text/plain": [
       "['20220214847']"
      ]
     },
     "execution_count": 9,
     "metadata": {},
     "output_type": "execute_result"
    }
   ],
   "source": [
    "uhid"
   ]
  },
  {
   "cell_type": "code",
   "execution_count": 10,
   "id": "4ce176cb",
   "metadata": {},
   "outputs": [
    {
     "data": {
      "text/plain": [
       "['', 'Mrs. FATIMA', 'BEGAM RAYASAB', 'BICHAKATI', '']"
      ]
     },
     "execution_count": 10,
     "metadata": {},
     "output_type": "execute_result"
    }
   ],
   "source": [
    "patient"
   ]
  },
  {
   "cell_type": "code",
   "execution_count": 11,
   "id": "d4d2f7ed",
   "metadata": {},
   "outputs": [
    {
     "data": {
      "text/plain": [
       "['OBSTETRICS ', 'AND', 'GYNECOLOGY']"
      ]
     },
     "execution_count": 11,
     "metadata": {},
     "output_type": "execute_result"
    }
   ],
   "source": [
    "department"
   ]
  },
  {
   "cell_type": "code",
   "execution_count": 12,
   "id": "2904e57d",
   "metadata": {},
   "outputs": [
    {
     "data": {
      "text/plain": [
       "['27 Years 1 Months', '16 Days 0 Hours ', '/', 'Female', '']"
      ]
     },
     "execution_count": 12,
     "metadata": {},
     "output_type": "execute_result"
    }
   ],
   "source": [
    "age_sex"
   ]
  },
  {
   "cell_type": "code",
   "execution_count": 13,
   "id": "5096b4df",
   "metadata": {},
   "outputs": [
    {
     "data": {
      "text/plain": [
       "[]"
      ]
     },
     "execution_count": 13,
     "metadata": {},
     "output_type": "execute_result"
    }
   ],
   "source": [
    "unit"
   ]
  },
  {
   "cell_type": "code",
   "execution_count": 14,
   "id": "3552b004",
   "metadata": {},
   "outputs": [
    {
     "data": {
      "text/plain": [
       "['RAYASAB']"
      ]
     },
     "execution_count": 14,
     "metadata": {},
     "output_type": "execute_result"
    }
   ],
   "source": [
    "son_of"
   ]
  },
  {
   "cell_type": "code",
   "execution_count": 15,
   "id": "b626074a",
   "metadata": {},
   "outputs": [
    {
     "data": {
      "text/plain": [
       "['605 Post Labour', 'Ward']"
      ]
     },
     "execution_count": 15,
     "metadata": {},
     "output_type": "execute_result"
    }
   ],
   "source": [
    "ward"
   ]
  },
  {
   "cell_type": "code",
   "execution_count": 16,
   "id": "6438782a",
   "metadata": {},
   "outputs": [
    {
     "data": {
      "text/plain": [
       "['JSSK']"
      ]
     },
     "execution_count": 16,
     "metadata": {},
     "output_type": "execute_result"
    }
   ],
   "source": [
    "billing_type"
   ]
  },
  {
   "cell_type": "code",
   "execution_count": 17,
   "id": "624a6c01",
   "metadata": {},
   "outputs": [
    {
     "data": {
      "text/plain": [
       "['NO']"
      ]
     },
     "execution_count": 17,
     "metadata": {},
     "output_type": "execute_result"
    }
   ],
   "source": [
    "mlc_patient"
   ]
  },
  {
   "cell_type": "code",
   "execution_count": 18,
   "id": "02eac06a",
   "metadata": {},
   "outputs": [
    {
     "data": {
      "text/plain": [
       "[]"
      ]
     },
     "execution_count": 18,
     "metadata": {},
     "output_type": "execute_result"
    }
   ],
   "source": [
    "ipd"
   ]
  },
  {
   "cell_type": "code",
   "execution_count": 19,
   "id": "3865c497",
   "metadata": {},
   "outputs": [
    {
     "data": {
      "text/plain": [
       "['', '202247668', '']"
      ]
     },
     "execution_count": 19,
     "metadata": {},
     "output_type": "execute_result"
    }
   ],
   "source": [
    "admission_id"
   ]
  },
  {
   "cell_type": "code",
   "execution_count": 20,
   "id": "51e69016",
   "metadata": {},
   "outputs": [
    {
     "data": {
      "text/plain": [
       "[]"
      ]
     },
     "execution_count": 20,
     "metadata": {},
     "output_type": "execute_result"
    }
   ],
   "source": [
    "discharge_type"
   ]
  },
  {
   "cell_type": "code",
   "execution_count": 21,
   "id": "10ba0390",
   "metadata": {},
   "outputs": [
    {
     "data": {
      "text/plain": [
       "['', 'Dr. Shobha', 'Bembalgi,']"
      ]
     },
     "execution_count": 21,
     "metadata": {},
     "output_type": "execute_result"
    }
   ],
   "source": [
    "treating_doctor"
   ]
  },
  {
   "cell_type": "code",
   "execution_count": 22,
   "id": "0cc1a17b",
   "metadata": {},
   "outputs": [
    {
     "data": {
      "text/plain": [
       "['F']"
      ]
     },
     "execution_count": 22,
     "metadata": {},
     "output_type": "execute_result"
    }
   ],
   "source": [
    "bed_no"
   ]
  },
  {
   "cell_type": "code",
   "execution_count": 23,
   "id": "bdcd43a0",
   "metadata": {},
   "outputs": [
    {
     "data": {
      "text/plain": [
       "['*******410', ' ', ' ']"
      ]
     },
     "execution_count": 23,
     "metadata": {},
     "output_type": "execute_result"
    }
   ],
   "source": [
    "mobile_no"
   ]
  },
  {
   "cell_type": "code",
   "execution_count": 24,
   "id": "322e8b5f",
   "metadata": {},
   "outputs": [
    {
     "data": {
      "text/plain": [
       "[' ', ' ', ' ', ' ', ' ', '']"
      ]
     },
     "execution_count": 24,
     "metadata": {},
     "output_type": "execute_result"
    }
   ],
   "source": [
    "drug_allergy"
   ]
  },
  {
   "cell_type": "code",
   "execution_count": 25,
   "id": "0a19965f",
   "metadata": {},
   "outputs": [
    {
     "data": {
      "text/plain": [
       "['', '28/09/2022', '05:18:16 PM']"
      ]
     },
     "execution_count": 25,
     "metadata": {},
     "output_type": "execute_result"
    }
   ],
   "source": [
    "date_of_admission"
   ]
  },
  {
   "cell_type": "code",
   "execution_count": 26,
   "id": "450e4662",
   "metadata": {},
   "outputs": [
    {
     "data": {
      "text/plain": [
       "[]"
      ]
     },
     "execution_count": 26,
     "metadata": {},
     "output_type": "execute_result"
    }
   ],
   "source": [
    "operation_date"
   ]
  },
  {
   "cell_type": "code",
   "execution_count": 27,
   "id": "23861208",
   "metadata": {},
   "outputs": [
    {
     "data": {
      "text/plain": [
       "['', '02/10/2022', '11:38:00 PM']"
      ]
     },
     "execution_count": 27,
     "metadata": {},
     "output_type": "execute_result"
    }
   ],
   "source": [
    "date_of_discharge"
   ]
  },
  {
   "cell_type": "code",
   "execution_count": 28,
   "id": "419cbad9",
   "metadata": {},
   "outputs": [
    {
     "data": {
      "text/plain": [
       "[':',\n",
       " '',\n",
       " 'SAUNSHI MOB',\n",
       " '7676836410, ADR',\n",
       " '328136008039,',\n",
       " 'KUNDGOL,',\n",
       " 'KARNATAKA, INDIA']"
      ]
     },
     "execution_count": 28,
     "metadata": {},
     "output_type": "execute_result"
    }
   ],
   "source": [
    "address"
   ]
  },
  {
   "cell_type": "code",
   "execution_count": 29,
   "id": "7f93597c",
   "metadata": {},
   "outputs": [
    {
     "data": {
      "text/plain": [
       "[]"
      ]
     },
     "execution_count": 29,
     "metadata": {},
     "output_type": "execute_result"
    }
   ],
   "source": [
    "surgeon"
   ]
  },
  {
   "cell_type": "code",
   "execution_count": 30,
   "id": "a5682b00",
   "metadata": {},
   "outputs": [
    {
     "data": {
      "text/plain": [
       "[]"
      ]
     },
     "execution_count": 30,
     "metadata": {},
     "output_type": "execute_result"
    }
   ],
   "source": [
    "asst_surgeon"
   ]
  },
  {
   "cell_type": "code",
   "execution_count": 31,
   "id": "55b53fd7",
   "metadata": {},
   "outputs": [
    {
     "data": {
      "text/plain": [
       "[]"
      ]
     },
     "execution_count": 31,
     "metadata": {},
     "output_type": "execute_result"
    }
   ],
   "source": [
    "procedure"
   ]
  },
  {
   "cell_type": "code",
   "execution_count": 32,
   "id": "fa3f9c2a",
   "metadata": {},
   "outputs": [
    {
     "data": {
      "text/plain": [
       "[]"
      ]
     },
     "execution_count": 32,
     "metadata": {},
     "output_type": "execute_result"
    }
   ],
   "source": [
    "operative_findings"
   ]
  },
  {
   "cell_type": "code",
   "execution_count": 33,
   "id": "a7909e0e",
   "metadata": {},
   "outputs": [
    {
     "data": {
      "text/plain": [
       "['', 'Dr. Shobha', 'Bembalgi', '', ' ', ' ']"
      ]
     },
     "execution_count": 33,
     "metadata": {},
     "output_type": "execute_result"
    }
   ],
   "source": [
    "consulting_doctor"
   ]
  },
  {
   "cell_type": "code",
   "execution_count": 34,
   "id": "cf8078aa",
   "metadata": {},
   "outputs": [
    {
     "data": {
      "text/plain": [
       "[':',\n",
       " '',\n",
       " 'G3P2L2 WITH 40WEEKS ',\n",
       " '+ 0DAYS GA OLIGOHYDRAMNIOUS NOT IN LABOR',\n",
       " ' ']"
      ]
     },
     "execution_count": 34,
     "metadata": {},
     "output_type": "execute_result"
    }
   ],
   "source": [
    "icd_code"
   ]
  },
  {
   "cell_type": "code",
   "execution_count": 35,
   "id": "4fc122b3",
   "metadata": {},
   "outputs": [
    {
     "data": {
      "text/plain": [
       "['',\n",
       " 'G3P2L2 WITH 40WEEKS ',\n",
       " '+ 0DAYS GA OLIGOHYDRAMNIOUS NOT IN LABOR ',\n",
       " 'REGULAR ANC VISIT ',\n",
       " 'H/O',\n",
       " '9MONTHS OF AMENORRHEA ',\n",
       " 'AFM + CAME WITH ',\n",
       " 'NO C/O PAIN ABDOMEN ',\n",
       " 'NO C/O ',\n",
       " 'PV BLEED PV LEAK ',\n",
       " 'NO H/O',\n",
       " 'CHEST PAIN, BREATHLESSNESS, PALPITATIONS ',\n",
       " 'NO H/O DM HTN, ,EPILEPSY, ',\n",
       " 'CARDIAC ',\n",
       " 'DISORDERS ',\n",
       " 'FAMILY',\n",
       " 'HISTORY -NOT SIGNIFICANT',\n",
       " 'Physical']"
      ]
     },
     "execution_count": 35,
     "metadata": {},
     "output_type": "execute_result"
    }
   ],
   "source": [
    "admitted_for"
   ]
  },
  {
   "cell_type": "code",
   "execution_count": 36,
   "id": "4f9741da",
   "metadata": {},
   "outputs": [
    {
     "data": {
      "text/plain": [
       "['',\n",
       " 'Vitals ',\n",
       " 'PR - 86 bpm ',\n",
       " 'BP - 110/60 mm Hg RR - 16 cpm Temp - 98Ã',\n",
       " ' \\x83',\n",
       " ' Â',\n",
       " ' \\x82',\n",
       " ' Ã',\n",
       " ' \\x82',\n",
       " ' Â°F ',\n",
       " 'S/E CVS - S1,S2 HEARD RS -',\n",
       " 'NVBS CNS - NAD ',\n",
       " 'PA UTERUS TERM ',\n",
       " 'SIZE ',\n",
       " 'FLANKS FULL ',\n",
       " 'LONGITUDINAL LIE CEPHALIC PRESENT ATION',\n",
       " '',\n",
       " ' ',\n",
       " '',\n",
       " ' ']"
      ]
     },
     "execution_count": 36,
     "metadata": {},
     "output_type": "execute_result"
    }
   ],
   "source": [
    "physical_findings"
   ]
  },
  {
   "cell_type": "code",
   "execution_count": 37,
   "id": "56c04cbb",
   "metadata": {},
   "outputs": [
    {
     "data": {
      "text/plain": [
       "[':', '', 'Vitals - STABLE ,SYSTEMIC EXAM:- CVS/RS - NAD', '  ', ' ']"
      ]
     },
     "execution_count": 37,
     "metadata": {},
     "output_type": "execute_result"
    }
   ],
   "source": [
    "condition_during_discharge"
   ]
  },
  {
   "cell_type": "code",
   "execution_count": 38,
   "id": "eec368c2",
   "metadata": {},
   "outputs": [
    {
     "data": {
      "text/plain": [
       "['',\n",
       " 'FTVD INDUCED WITH PGE2 ',\n",
       " ' ',\n",
       " 'A SINGLE LIVE BOY OF WEIGHT 2.88KG WAS BORN ON 29/09/22 AT',\n",
       " '5:12PM ',\n",
       " 'CRIED AT BIRTH,',\n",
       " ' ',\n",
       " 'ROBSON 3',\n",
       " ' ',\n",
       " 'part no - 928/09/22']"
      ]
     },
     "execution_count": 38,
     "metadata": {},
     "output_type": "execute_result"
    }
   ],
   "source": [
    "brief_summary"
   ]
  },
  {
   "cell_type": "code",
   "execution_count": 39,
   "id": "ab005311",
   "metadata": {},
   "outputs": [
    {
     "data": {
      "text/plain": [
       "['Blood group - O POSITIVE ',\n",
       " 'Hb - 12.6g/dl HIV - nonreactive HbsAg- non reactive   ',\n",
       " '0']"
      ]
     },
     "execution_count": 39,
     "metadata": {},
     "output_type": "execute_result"
    }
   ],
   "source": [
    "test_name"
   ]
  },
  {
   "cell_type": "code",
   "execution_count": 40,
   "id": "b947b8ba",
   "metadata": {},
   "outputs": [
    {
     "data": {
      "text/plain": [
       "['0']"
      ]
     },
     "execution_count": 40,
     "metadata": {},
     "output_type": "execute_result"
    }
   ],
   "source": [
    "observation"
   ]
  },
  {
   "cell_type": "code",
   "execution_count": 41,
   "id": "9bba21e4",
   "metadata": {},
   "outputs": [
    {
     "data": {
      "text/plain": [
       "['',\n",
       " 'PLENTY OF ORAL FLUIDS ',\n",
       " ' ',\n",
       " 'PERSONAL AND PERINEAL HYGIENE',\n",
       " '  ',\n",
       " 'HIGH PROTEIN DIET ',\n",
       " ' ',\n",
       " 'ADEQUATE REST ',\n",
       " ' ',\n",
       " 'TAB FERROUS SULPHATE 200MG BD',\n",
       " ' ',\n",
       " 'TAB CALCIUM 500MG ',\n",
       " ' ',\n",
       " 'TAB B COMPLEX OD ',\n",
       " ' ',\n",
       " 'TAB AMOXICLAV 625 MG 1-0-1 ',\n",
       " ' ',\n",
       " 'TAB METRONIDAZOLE ',\n",
       " '400MG 1-0-1 ',\n",
       " ' ',\n",
       " 'TAB PANTOP 40MG 1-0-1',\n",
       " ' ',\n",
       " 'TAB PCT 500MG 1-0-1 ',\n",
       " 'BREASTFEEDING FOR 6 MONTHS',\n",
       " ' ',\n",
       " 'COMPLIMENTARY BREASTFEEDING AFTER 6 MONTHS',\n",
       " ' ',\n",
       " 'IMMUNISATION ADVICED',\n",
       " ' ',\n",
       " ' ',\n",
       " ' ',\n",
       " ' ',\n",
       " 'REVIEW AFTER 2WKS IN OPD 50 ONLY ON THURSDAY',\n",
       " ' ',\n",
       " '',\n",
       " ' ']"
      ]
     },
     "execution_count": 41,
     "metadata": {},
     "output_type": "execute_result"
    }
   ],
   "source": [
    "advice_on_discharge"
   ]
  },
  {
   "cell_type": "code",
   "execution_count": 42,
   "id": "bed15325",
   "metadata": {},
   "outputs": [],
   "source": [
    "def listTostring(lst):\n",
    "    x=\"\"\n",
    "    x=x+' '.join(advice_on_discharge)\n",
    "    return x\n",
    "advice_on_discharge=listTostring(advice_on_discharge)"
   ]
  },
  {
   "cell_type": "code",
   "execution_count": 43,
   "id": "7fae7a0d",
   "metadata": {},
   "outputs": [
    {
     "data": {
      "text/plain": [
       "str"
      ]
     },
     "execution_count": 43,
     "metadata": {},
     "output_type": "execute_result"
    }
   ],
   "source": [
    "type(advice_on_discharge)"
   ]
  },
  {
   "cell_type": "code",
   "execution_count": null,
   "id": "9d8f8817",
   "metadata": {},
   "outputs": [],
   "source": []
  },
  {
   "cell_type": "code",
   "execution_count": null,
   "id": "7b3c36c5",
   "metadata": {},
   "outputs": [],
   "source": []
  },
  {
   "cell_type": "code",
   "execution_count": null,
   "id": "3983ef1d",
   "metadata": {},
   "outputs": [],
   "source": []
  }
 ],
 "metadata": {
  "kernelspec": {
   "display_name": "Python 3 (ipykernel)",
   "language": "python",
   "name": "python3"
  },
  "language_info": {
   "codemirror_mode": {
    "name": "ipython",
    "version": 3
   },
   "file_extension": ".py",
   "mimetype": "text/x-python",
   "name": "python",
   "nbconvert_exporter": "python",
   "pygments_lexer": "ipython3",
   "version": "3.10.4"
  }
 },
 "nbformat": 4,
 "nbformat_minor": 5
}
